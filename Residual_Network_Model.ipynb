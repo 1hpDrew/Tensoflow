{
  "nbformat": 4,
  "nbformat_minor": 0,
  "metadata": {
    "colab": {
      "provenance": [],
      "authorship_tag": "ABX9TyOGP0LHFOTBO1svB6AtPlRH",
      "include_colab_link": true
    },
    "kernelspec": {
      "name": "python3",
      "display_name": "Python 3"
    },
    "language_info": {
      "name": "python"
    }
  },
  "cells": [
    {
      "cell_type": "markdown",
      "metadata": {
        "id": "view-in-github",
        "colab_type": "text"
      },
      "source": [
        "<a href=\"https://colab.research.google.com/github/1hpDrew/Tensoflow_Coursera/blob/main/Residual_Network_Model.ipynb\" target=\"_parent\"><img src=\"https://colab.research.google.com/assets/colab-badge.svg\" alt=\"Open In Colab\"/></a>"
      ]
    },
    {
      "cell_type": "code",
      "execution_count": 1,
      "metadata": {
        "id": "42ARS5dTosot"
      },
      "outputs": [],
      "source": [
        "import tensorflow as tf\n",
        "import tensorflow_datasets as tfds\n",
        "from tensorflow.keras.layers import Layer"
      ]
    },
    {
      "cell_type": "code",
      "source": [
        "tf.__version__"
      ],
      "metadata": {
        "colab": {
          "base_uri": "https://localhost:8080/",
          "height": 35
        },
        "id": "A7d8rp2ypCAk",
        "outputId": "046326dd-e6d1-41e0-e695-baeaaadb2ba6"
      },
      "execution_count": 2,
      "outputs": [
        {
          "output_type": "execute_result",
          "data": {
            "text/plain": [
              "'2.12.0'"
            ],
            "application/vnd.google.colaboratory.intrinsic+json": {
              "type": "string"
            }
          },
          "metadata": {},
          "execution_count": 2
        }
      ]
    },
    {
      "cell_type": "markdown",
      "source": [
        "# **Implement Model Subclasses**\n"
      ],
      "metadata": {
        "id": "peHmJDFxpkho"
      }
    },
    {
      "cell_type": "code",
      "source": [
        "class IdentityBlock(tf.keras.Model):\n",
        "  def __init__(self,filters,kernal_size):\n",
        "    super(IdentityBlock,self).__init__(name='')\n",
        "\n",
        "    self.conv1=tf.keras.layers.Conv2D(filters,kernal_size,padding='same')\n",
        "    self.bn1=tf.keras.layers.BatchNormalization()\n",
        "\n",
        "    self.conv2=tf.keras.layers.Conv2D(filters,kernal_size,padding='same')\n",
        "    self.bn2=tf.keras.layers.BatchNormalization()\n",
        "\n",
        "    self.act=tf.keras.layers.Activation('relu')\n",
        "    self.add=tf.keras.layers.Add()\n",
        "\n",
        "  def call(self,input_tensor):\n",
        "    x=self.conv1(input_tensor)\n",
        "    x=self.bn1(x)\n",
        "    x=self.act(x)\n",
        "    x=self.conv2(x)\n",
        "    x=self.bn2(x)\n",
        "    x=self.add([input_tensor,x])\n",
        "    x=self.act(x)\n",
        "    return x"
      ],
      "metadata": {
        "id": "pz31WJIXpGGi"
      },
      "execution_count": 3,
      "outputs": []
    },
    {
      "cell_type": "code",
      "source": [
        "class ResNet(tf.keras.Model):\n",
        "    def __init__(self, num_classes):\n",
        "        super(ResNet, self).__init__()\n",
        "        self.conv = tf.keras.layers.Conv2D(64, 7, padding='same')\n",
        "        self.bn = tf.keras.layers.BatchNormalization()\n",
        "        self.act = tf.keras.layers.Activation('relu')\n",
        "        self.max_pool = tf.keras.layers.MaxPool2D((3, 3))\n",
        "\n",
        "        # Use the Identity blocks that you just defined\n",
        "        self.id1a = IdentityBlock(64, 3)\n",
        "        self.id1b = IdentityBlock(64, 3)\n",
        "\n",
        "        self.global_pool = tf.keras.layers.GlobalAveragePooling2D()\n",
        "        self.classifier = tf.keras.layers.Dense(num_classes, activation='softmax')\n",
        "\n",
        "    def call(self, inputs):\n",
        "        x = self.conv(inputs)\n",
        "        x = self.bn(x)\n",
        "        x = self.act(x)\n",
        "        x = self.max_pool(x)\n",
        "\n",
        "        # insert the identity blocks in the middle of the network\n",
        "        x = self.id1a(x)\n",
        "        x = self.id1b(x)\n",
        "\n",
        "        x = self.global_pool(x)\n",
        "        return self.classifier(x)"
      ],
      "metadata": {
        "id": "0OiPvPEBt-y9"
      },
      "execution_count": 4,
      "outputs": []
    },
    {
      "cell_type": "markdown",
      "source": [
        "# **Training Model**"
      ],
      "metadata": {
        "id": "ct1wEpMtxoxF"
      }
    },
    {
      "cell_type": "code",
      "source": [
        "def preprocess(features):\n",
        "    return tf.cast(features['image'], tf.float32) / 255., features['label']\n",
        "\n",
        "# create a ResNet instance with 10 output units for MNIST\n",
        "resnet = ResNet(10)\n",
        "resnet.compile(optimizer='adam', loss='sparse_categorical_crossentropy', metrics=['accuracy'])\n",
        "\n",
        "# load and preprocess the dataset\n",
        "dataset = tfds.load('mnist', split=tfds.Split.TRAIN, data_dir='./data')\n",
        "dataset = dataset.map(preprocess).batch(32)\n",
        "\n",
        "# train the model.\n",
        "resnet.fit(dataset, epochs=1)"
      ],
      "metadata": {
        "colab": {
          "base_uri": "https://localhost:8080/"
        },
        "id": "2Vm-MRF7xnXR",
        "outputId": "e1dcc9c0-82f6-4947-e84d-898c165f3adf"
      },
      "execution_count": 5,
      "outputs": [
        {
          "output_type": "stream",
          "name": "stdout",
          "text": [
            "1875/1875 [==============================] - 261s 137ms/step - loss: 0.1285 - accuracy: 0.9650\n"
          ]
        },
        {
          "output_type": "execute_result",
          "data": {
            "text/plain": [
              "<keras.callbacks.History at 0x79b14e20d450>"
            ]
          },
          "metadata": {},
          "execution_count": 5
        }
      ]
    }
  ]
}